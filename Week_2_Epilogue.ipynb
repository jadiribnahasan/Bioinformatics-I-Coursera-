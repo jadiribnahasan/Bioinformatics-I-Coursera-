{
  "nbformat": 4,
  "nbformat_minor": 0,
  "metadata": {
    "colab": {
      "name": "Week-2 Epilogue.ipynb",
      "provenance": [],
      "authorship_tag": "ABX9TyO2IZpAa1LDtKnhq0ZfobAl",
      "include_colab_link": true
    },
    "kernelspec": {
      "name": "python3",
      "display_name": "Python 3"
    }
  },
  "cells": [
    {
      "cell_type": "markdown",
      "metadata": {
        "id": "view-in-github",
        "colab_type": "text"
      },
      "source": [
        "<a href=\"https://colab.research.google.com/github/jadiribnahasan/Bioinformatics-I-Coursera-/blob/master/Week_2_Epilogue.ipynb\" target=\"_parent\"><img src=\"https://colab.research.google.com/assets/colab-badge.svg\" alt=\"Open In Colab\"/></a>"
      ]
    },
    {
      "cell_type": "markdown",
      "metadata": {
        "id": "JyGpZ9v3PRlU"
      },
      "source": [
        "Find the DNAa box(DNAa protein) of Salmonella typhimurium that causes typhoid fever and foodborne illness"
      ]
    },
    {
      "cell_type": "code",
      "metadata": {
        "colab": {
          "base_uri": "https://localhost:8080/"
        },
        "id": "zLcfmmSEPL_O",
        "outputId": "d787b357-bcba-4c97-8afd-6f3046b2dfc9"
      },
      "source": [
        "from google.colab import drive\r\n",
        "drive.mount('/content/gdrive')"
      ],
      "execution_count": 1,
      "outputs": [
        {
          "output_type": "stream",
          "text": [
            "Mounted at /content/gdrive\n"
          ],
          "name": "stdout"
        }
      ]
    },
    {
      "cell_type": "code",
      "metadata": {
        "id": "qgu_MvDsW4sr"
      },
      "source": [
        "import numpy as np\r\n"
      ],
      "execution_count": 50,
      "outputs": []
    },
    {
      "cell_type": "code",
      "metadata": {
        "id": "3N8hSxJWbytM"
      },
      "source": [
        "def getSkewIndex(strand_string):\r\n",
        "  gmc = 0\r\n",
        "  ans = [0]\r\n",
        "\r\n",
        "  for c in strand_string:\r\n",
        "    if c == 'C':\r\n",
        "      gmc -= 1\r\n",
        "    elif c == 'G':\r\n",
        "      gmc += 1\r\n",
        "    ans.append(gmc)\r\n",
        "\r\n",
        "  _min = np.min(ans)\r\n",
        "  indexes = [i for i, x in enumerate(ans) if x == _min]\r\n",
        "  return indexes"
      ],
      "execution_count": 61,
      "outputs": []
    },
    {
      "cell_type": "code",
      "metadata": {
        "id": "qcau2_1Cb0dK"
      },
      "source": [
        "\r\n",
        "def dnaCompliment(pattern):\r\n",
        "  compliment = str(\"\")\r\n",
        "  for base in pattern:\r\n",
        "      if base == 'A':\r\n",
        "          compliment += 'T'\r\n",
        "      elif base == 'G':\r\n",
        "          compliment += 'C'\r\n",
        "      elif base == 'C':\r\n",
        "          compliment += 'G'\r\n",
        "      elif base == 'T':\r\n",
        "          compliment += 'A'\r\n",
        "\r\n",
        "  return compliment[::-1]\r\n",
        "\r\n",
        "def hamdistance(string1, string2):\r\n",
        "  mismatch = 0\r\n",
        "  for i in range(len(string1)):\r\n",
        "    if string1[i] != string2[i]:\r\n",
        "      mismatch += 1\r\n",
        "  return mismatch\r\n",
        "\r\n",
        "def neighbors(pattern, d):\r\n",
        "  if d == 0:\r\n",
        "    return pattern\r\n",
        "  if len(pattern) == 1:\r\n",
        "    return ['A', 'T', 'C', 'G']\r\n",
        "  Neighborhood = []\r\n",
        "  SuffixNeighbors = neighbors(pattern[1:], d)\r\n",
        "  for text in SuffixNeighbors:\r\n",
        "    if hamdistance(text, pattern[1:]) < d:\r\n",
        "      for neuclotide in 'ACTG':\r\n",
        "        Neighborhood.append(neuclotide + text)\r\n",
        "    else:\r\n",
        "      Neighborhood.append(pattern[0] + text)\r\n",
        "  return Neighborhood\r\n",
        "\r\n",
        "\r\n",
        "def FrequentWordsWithMismatchesAndReverseComplements(Text, k, d):\r\n",
        "  Patterns = []\r\n",
        "  freqMap = {}\r\n",
        "  n = len(Text)\r\n",
        "  max = 0\r\n",
        "  for i in range(n-k):\r\n",
        "    pattern = Text[i : i+k]\r\n",
        "    neighborhood = neighbors(pattern, d)\r\n",
        "    neighborhood += (neighbors(dnaCompliment(pattern), d))\r\n",
        "    for neighbor in neighborhood:\r\n",
        "      if neighbor in freqMap.keys():\r\n",
        "        freqMap[neighbor] += 1\r\n",
        "        if freqMap[neighbor] > max:\r\n",
        "          max = freqMap[neighbor]\r\n",
        "      else:\r\n",
        "        freqMap[neighbor] = 1\r\n",
        "        if freqMap[neighbor] > max:\r\n",
        "          max = freqMap[neighbor]\r\n",
        "  \r\n",
        "  freqWords = [key for key in freqMap.keys() if freqMap[key] == max]\r\n",
        "\r\n",
        "  return freqWords"
      ],
      "execution_count": 64,
      "outputs": []
    },
    {
      "cell_type": "code",
      "metadata": {
        "colab": {
          "base_uri": "https://localhost:8080/"
        },
        "id": "78WGRKhURgu7",
        "outputId": "86e8ffee-88f0-4371-ad8e-77f93b1f04da"
      },
      "source": [
        "%cd /content/gdrive/MyDrive/Colab Notebooks/Finding Hidden Messages in DNA (Bioinformatics I)/Datasets"
      ],
      "execution_count": 54,
      "outputs": [
        {
          "output_type": "stream",
          "text": [
            "/content/gdrive/MyDrive/Colab Notebooks/Finding Hidden Messages in DNA (Bioinformatics I)/Datasets\n"
          ],
          "name": "stdout"
        }
      ]
    },
    {
      "cell_type": "code",
      "metadata": {
        "colab": {
          "base_uri": "https://localhost:8080/"
        },
        "id": "wbXYEDnPRoUa",
        "outputId": "242e0d23-5fdf-49d2-c8fd-3bf6976f3db9"
      },
      "source": [
        "\r\n",
        "strand = ''\r\n",
        "\r\n",
        "with open('Salmonella_enterica.txt', 'r') as f:\r\n",
        "\r\n",
        "  delete = f.readline()\r\n",
        "  for line in f:\r\n",
        "    s = line\r\n",
        "    line = line[:len(line)-1]\r\n",
        "    strand += line\r\n",
        "\r\n",
        "skewindex = getSkewIndex(strand)\r\n",
        "\r\n",
        "ori1 = strand[skewindex[0]-425 : skewindex[0]+425]\r\n",
        "ori2 = strand[skewindex[0] : skewindex[0]+500]\r\n",
        "ori3 = strand[skewindex[1]-250 : skewindex[1]+250]\r\n",
        "ori4 = strand[skewindex[1] : skewindex[1]+500]\r\n",
        "\r\n",
        "DNAa = FrequentWordsWithMismatchesAndReverseComplements(ori3, 9, 1)\r\n",
        "print(f'DNAa of Salmonella typhimurium might be {DNAa}')"
      ],
      "execution_count": 72,
      "outputs": [
        {
          "output_type": "stream",
          "text": [
            "DNAa of Salmonella typhimurium might be ['CCGGAAGCT', 'AGCTTCCGG']\n"
          ],
          "name": "stdout"
        }
      ]
    }
  ]
}