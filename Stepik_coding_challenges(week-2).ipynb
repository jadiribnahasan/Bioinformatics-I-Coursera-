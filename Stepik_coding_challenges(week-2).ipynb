{
  "nbformat": 4,
  "nbformat_minor": 0,
  "metadata": {
    "colab": {
      "name": "Stepik coding challenges.ipynb",
      "provenance": [],
      "collapsed_sections": [],
      "authorship_tag": "ABX9TyMJnbmXgCwS28KMnlJadxql",
      "include_colab_link": true
    },
    "kernelspec": {
      "name": "python3",
      "display_name": "Python 3"
    }
  },
  "cells": [
    {
      "cell_type": "markdown",
      "metadata": {
        "id": "view-in-github",
        "colab_type": "text"
      },
      "source": [
        "<a href=\"https://colab.research.google.com/github/jadiribnahasan/Bioinformatics-I-Coursera-/blob/master/Stepik_coding_challenges(week-2).ipynb\" target=\"_parent\"><img src=\"https://colab.research.google.com/assets/colab-badge.svg\" alt=\"Open In Colab\"/></a>"
      ]
    },
    {
      "cell_type": "code",
      "metadata": {
        "colab": {
          "base_uri": "https://localhost:8080/"
        },
        "id": "Am0NOTJtbCGW",
        "outputId": "8e1bd1a0-09dc-4d5a-e1cc-cdbeb0178933"
      },
      "source": [
        "from google.colab import drive\r\n",
        "drive.mount('/content/gdrive')"
      ],
      "execution_count": null,
      "outputs": [
        {
          "output_type": "stream",
          "text": [
            "Mounted at /content/gdrive\n"
          ],
          "name": "stdout"
        }
      ]
    },
    {
      "cell_type": "code",
      "metadata": {
        "id": "zhtFbam-ZyP-"
      },
      "source": [
        "import matplotlib.pyplot as plt\r\n",
        "import numpy as np\r\n",
        "plt.style.use('fivethirtyeight')"
      ],
      "execution_count": null,
      "outputs": []
    },
    {
      "cell_type": "markdown",
      "metadata": {
        "id": "Iowq-nCHXllp"
      },
      "source": [
        "Week-2 - 1.3.8"
      ]
    },
    {
      "cell_type": "code",
      "metadata": {
        "colab": {
          "base_uri": "https://localhost:8080/",
          "height": 361
        },
        "id": "hQrGLZ6wJvCT",
        "outputId": "39abc58d-b21a-42ba-f28f-cf4b25319681"
      },
      "source": [
        "\r\n",
        "strand_string = 'TAAAGACTGCCGAGAGGCCAACACGAGTGCTAGAACGAGGGGCGTAAACGCGGGTCCGAT'\r\n",
        "\r\n",
        "gmc = 0\r\n",
        "ans = [0]\r\n",
        "\r\n",
        "for c in strand_string:\r\n",
        "  if c == 'C':\r\n",
        "    gmc -= 1\r\n",
        "  elif c == 'G':\r\n",
        "    gmc += 1\r\n",
        "  ans.append(gmc)\r\n",
        "\r\n",
        "print(*ans)\r\n",
        "plt.plot(range(len(strand_string)+1), ans)\r\n",
        "plt.title(\"G-C Skew Diagram of DNA neucleutides\")\r\n",
        "plt.xlabel('position')\r\n",
        "plt.ylabel('skew')"
      ],
      "execution_count": null,
      "outputs": [
        {
          "output_type": "stream",
          "text": [
            "0 0 0 0 0 1 1 0 0 1 0 -1 0 0 1 1 2 3 2 1 1 1 0 0 -1 0 0 1 1 2 1 1 1 2 2 2 1 2 2 3 4 5 6 5 6 6 6 6 6 5 6 5 6 7 8 8 7 6 7 7 7\n"
          ],
          "name": "stdout"
        },
        {
          "output_type": "execute_result",
          "data": {
            "text/plain": [
              "Text(0, 0.5, 'skew')"
            ]
          },
          "metadata": {
            "tags": []
          },
          "execution_count": 22
        },
        {
          "output_type": "display_data",
          "data": {
            "image/png": "[encoded data removed]",
            "text/plain": [
              "<Figure size 432x288 with 1 Axes>"
            ]
          },
          "metadata": {
            "tags": []
          }
        }
      ]
    },
    {
      "cell_type": "markdown",
      "metadata": {
        "id": "ikYUHJisc-GG"
      },
      "source": [
        "Week-2 - 1.3.10"
      ]
    },
    {
      "cell_type": "code",
      "metadata": {
        "colab": {
          "base_uri": "https://localhost:8080/"
        },
        "id": "MjO7WxH0X3Dr",
        "outputId": "a1d38bee-0e85-46e0-fdda-72350c58e15e"
      },
      "source": [
        "%cd /content/gdrive/MyDrive/Colab Notebooks/Finding Hidden Messages in DNA (Bioinformatics I)/Datasets\r\n",
        "\r\n",
        "f = open('dataset_7_10.txt')\r\n",
        "\r\n",
        "strand_string = f.readline()\r\n",
        "\r\n",
        "gmc = 0\r\n",
        "ans = [0]\r\n",
        "\r\n",
        "for c in strand_string:\r\n",
        "  if c == 'C':\r\n",
        "    gmc -= 1\r\n",
        "  elif c == 'G':\r\n",
        "    gmc += 1\r\n",
        "  ans.append(gmc)\r\n",
        "\r\n",
        "_min = np.min(ans)\r\n",
        "indexes = [i for i, x in enumerate(ans) if x == _min]\r\n",
        "print(*indexes)"
      ],
      "execution_count": null,
      "outputs": [
        {
          "output_type": "stream",
          "text": [
            "/content/gdrive/MyDrive/Colab Notebooks/Finding Hidden Messages in DNA (Bioinformatics I)/Datasets\n",
            "55810\n"
          ],
          "name": "stdout"
        }
      ]
    },
    {
      "cell_type": "markdown",
      "metadata": {
        "id": "EogYPzzwYXbl"
      },
      "source": [
        "Week-2 - 1.4.3"
      ]
    },
    {
      "cell_type": "code",
      "metadata": {
        "colab": {
          "base_uri": "https://localhost:8080/"
        },
        "id": "sxxBoHhhYdLt",
        "outputId": "e986bbc3-95fe-4331-b653-cd29f5160833"
      },
      "source": [
        "%cd /content/gdrive/MyDrive/Colab Notebooks/Finding Hidden Messages in DNA (Bioinformatics I)/Datasets\r\n",
        "\r\n",
        "f = open('dataset_9_3.txt')\r\n",
        "\r\n",
        "string1 = f.readline()\r\n",
        "string2 = f.readline()\r\n",
        "\r\n",
        "mismatch = 0\r\n",
        "for i in range(len(string1)):\r\n",
        "  if string1[i] != string2[i]:\r\n",
        "    mismatch += 1\r\n",
        "\r\n",
        "print(mismatch)"
      ],
      "execution_count": null,
      "outputs": [
        {
          "output_type": "stream",
          "text": [
            "/content/gdrive/MyDrive/Colab Notebooks/Finding Hidden Messages in DNA (Bioinformatics I)/Datasets\n",
            "895\n"
          ],
          "name": "stdout"
        }
      ]
    },
    {
      "cell_type": "markdown",
      "metadata": {
        "id": "1j-S5vyTZyh9"
      },
      "source": [
        "Week-2 - 1.4.4"
      ]
    },
    {
      "cell_type": "code",
      "metadata": {
        "colab": {
          "base_uri": "https://localhost:8080/"
        },
        "id": "cnCqSULLZ1hK",
        "outputId": "c87bdcab-3ab9-4869-9f20-3b1cbe078fe7"
      },
      "source": [
        "%cd /content/gdrive/MyDrive/Colab Notebooks/Finding Hidden Messages in DNA (Bioinformatics I)/Datasets\r\n",
        "\r\n",
        "f = open('dataset_9_4.txt')\r\n",
        "\r\n",
        "pattern = f.readline()\r\n",
        "text = f.readline()\r\n",
        "d = int(f.readline())\r\n",
        "\r\n",
        "pattern = pattern[ : len(pattern)-1]\r\n",
        "text = text[ : len(text)-1]\r\n",
        "\r\n",
        "ans = []\r\n",
        "for i in range(len(text) - len(pattern) + 1):\r\n",
        "  dm = 0\r\n",
        "  for j in range(len(pattern)):\r\n",
        "    if pattern[j] != text[i+j]:\r\n",
        "      dm += 1\r\n",
        "  if dm <= d:\r\n",
        "    ans.append(i)  \r\n",
        "print(*(ans))"
      ],
      "execution_count": null,
      "outputs": [
        {
          "output_type": "stream",
          "text": [
            "/content/gdrive/MyDrive/Colab Notebooks/Finding Hidden Messages in DNA (Bioinformatics I)/Datasets\n",
            "37 55 65 86 98 107 121 172 183 192 209 245 271 279 302 324 357 451 464 467 527 557 571 592 623 625 644 654 747 785 791 828 837 876 915 930 938 966 972 1006 1017 1032 1056 1136 1148 1199 1235 1250 1267 1273 1288 1298 1342 1357 1373 1384 1385 1391 1405 1413 1449 1465 1495 1501 1503 1556 1558 1596 1598 1621 1646 1672 1713 1799 1808 1815 1834 1899 1922 1972 1974 1985 1999 2014 2047 2063 2110 2112 2134 2154 2288 2299 2310 2316 2330 2338 2422 2452 2465 2472 2578 2620 2721 2732 2846 2888 2902 2922 2945 2997 3021 3111 3177 3203 3231 3263 3270 3282 3294 3305 3307 3347 3364 3370 3392 3396 3488 3490 3541 3548 3577 3614 3626 3668 3705 3712 3737 3759 3785 3849 3859 3868 3908 3930 3972 3979 3989 4002 4019 4032 4196 4299 4341 4375 4383 4393 4395 4426 4441 4465 4477 4481 4491 4522 4547 4589 4605 4641 4651 4658 4723 4729 4788 4849 4888 4907 4972 4997 5006 5078 5115 5176 5217 5279 5357 5392 5417 5429 5483 5491 5497 5533 5614 5644 5670 5671 5701 5742 5762 5804 5880 5891 5918 5954 5978 6012 6029 6072 6087 6091 6099 6121 6174 6201 6252 6274 6314 6326 6348 6392 6404 6412 6480 6528 6554 6686 6720 6746 6753 6770 6797 6820 6832 6846 6855 6889 6918 6937 6959 6981 6983 7059 7066 7135 7152 7177 7183 7209 7241 7300 7316 7343 7374 7406 7438 7457 7555 7560 7573 7691 7719 7731 7821 7838 7873 7909 7922 7932 7964 7974 8000 8057 8080 8121 8134 8160 8162 8184 8216 8234 8264 8276 8297 8388 8399 8447 8475 8552 8559 8608 8683 8701 8718 8782 8806 8819 8859 8910 8937 8940 8946 8994 9024 9056 9092 9103 9144 9198 9257 9292 9298 9339 9372 9373 9393 9436 9452 9508 9515 9517 9526 9543 9565 9573 9575 9605 9633 9653 9661 9690 9692 9739 9747 9767 9783 9808 9819 9823 9825 9844 9863 9873 9930 9964 10001 10017 10046 10096 10115 10145 10183 10200 10301 10311 10318 10325 10347 10355 10384 10400 10435 10473 10475 10497 10560 10569 10670 10692 10703 10730 10743 10775 10809 10832 10835 10854 10863 10896 10897 10941 10969 11060 11082 11089 11108 11149 11171 11177 11185 11240 11264 11287 11343 11361 11371 11387 11414 11422 11439 11442 11449 11571 11579 11586 11593 11607 11672 11674 11781 11789 11807 11848 11857 11913 11927 11938 11960 11998 12020 12034 12086 12110 12140 12191 12215 12277 12300 12439 12525 12551 12617 12665 12724 12743 12783 12800 12808 12820 12826 12893 12898 12922 12930 12944 12971 12990 13056 13089 13106 13107 13109 13120 13185 13229 13231 13248 13261 13269 13289 13297 13361 13394 13418 13429 13486 13492 13500 13546 13574 13576 13617 13634 13658 13711 13738 13769 13795 13808 13854 13880 13899 13926 13935 13962 13996 13998 14023 14106 14121 14145 14158 14174 14176 14231 14237 14266 14300 14326 14364 14373 14393 14527 14533 14547 14577 14587 14589 14604 14618 14641 14674 14718 14727 14800 14847 14865 14923 14925 14927 14935 14942 14958 14980 14991 15026 15103 15158 15159 15180 15234 15237 15251 15265 15277 15315 15324 15333 15350 15358 15364 15376 15390 15434 15443 15449 15458 15470 15485 15518 15527 15530 15576 15582 15608 15682 15698 15723 15732 15778 15813 15817 15836 15888 15903 15922 15959 15970 15997 16030 16032 16034 16062 16073 16085 16106 16178 16246 16255 16267 16280 16323 16345 16380 16409 16481 16493 16497 16499 16516 16523 16579 16598 16646 16736 16755 16768 16769 16775 16833 16848 16887 16921 16983 17021 17064 17112 17180 17218 17228 17237 17252 17260 17293 17327 17361 17392 17438 17502 17521 17563 17565 17606 17678 17760 17769 17808 17831 17847 17849 17906 17935 17941 17986 18028 18056 18089 18112 18264 18334 18341 18366 18372 18381 18521 18601 18612 18647 18659 18678 18684 18720 18741 18755 18764 18773 18845 18858 18890 18953 18969 19010 19016 19033 19042 19062 19079 19085 19099 19119 19131 19135 19155 19185 19201 19296 19304\n"
          ],
          "name": "stdout"
        }
      ]
    },
    {
      "cell_type": "markdown",
      "metadata": {
        "id": "m2ksNogPnjrj"
      },
      "source": [
        "Week-2 - 1.4.5"
      ]
    },
    {
      "cell_type": "code",
      "metadata": {
        "colab": {
          "base_uri": "https://localhost:8080/"
        },
        "id": "qnrYe9ZBnlz7",
        "outputId": "0ba86791-190d-4cdd-a2ff-508934888499"
      },
      "source": [
        "%cd /content/gdrive/MyDrive/Colab Notebooks/Finding Hidden Messages in DNA (Bioinformatics I)/Datasets\r\n",
        "\r\n",
        "f = open('dataset_9_6.txt')\r\n",
        "\r\n",
        "pattern = f.readline()\r\n",
        "text = f.readline()\r\n",
        "d = int(f.readline())\r\n",
        "\r\n",
        "pattern = pattern[ : len(pattern)-1]\r\n",
        "text = text[ : len(text)-1]\r\n",
        "\r\n",
        "def approximatePatternCount(Text, Pattern, d):\r\n",
        "  count = 0\r\n",
        "  for i in range(len(text) - len(pattern) + 1):\r\n",
        "    dm = 0\r\n",
        "    for j in range(len(pattern)):\r\n",
        "      if pattern[j] != text[i+j]:\r\n",
        "        dm += 1\r\n",
        "    if dm <= d:\r\n",
        "      count += 1  \r\n",
        "  return count\r\n",
        "\r\n",
        "approximatePatternCount(text, pattern, d)"
      ],
      "execution_count": null,
      "outputs": [
        {
          "output_type": "stream",
          "text": [
            "/content/gdrive/MyDrive/Colab Notebooks/Finding Hidden Messages in DNA (Bioinformatics I)/Datasets\n"
          ],
          "name": "stdout"
        },
        {
          "output_type": "execute_result",
          "data": {
            "text/plain": [
              "20"
            ]
          },
          "metadata": {
            "tags": []
          },
          "execution_count": 7
        }
      ]
    },
    {
      "cell_type": "markdown",
      "metadata": {
        "id": "7yhNXYNYNxel"
      },
      "source": [
        "Week-2 - 1.7.4"
      ]
    },
    {
      "cell_type": "code",
      "metadata": {
        "id": "3XiQX477N0MT",
        "colab": {
          "base_uri": "https://localhost:8080/"
        },
        "outputId": "b897dafc-31de-43d0-968f-61bdc94640ee"
      },
      "source": [
        "%cd /content/gdrive/MyDrive/Colab Notebooks/Finding Hidden Messages in DNA (Bioinformatics I)/Datasets\r\n",
        "\r\n",
        "f = open('dataset_3014_4.txt')\r\n",
        "\r\n",
        "#a = f.readline()\r\n",
        "pattern = f.readline()\r\n",
        "pattern = pattern[ : len(pattern)-1]\r\n",
        "d = int(f.readline())\r\n",
        "#print((pattern), d+1)\r\n",
        "\r\n",
        "def hamdistance(string1, string2):\r\n",
        "  mismatch = 0\r\n",
        "  for i in range(len(string1)):\r\n",
        "    if string1[i] != string2[i]:\r\n",
        "      mismatch += 1\r\n",
        "  return mismatch\r\n",
        "\r\n",
        "def neighbors(pattern, d):\r\n",
        "  if d == 0:\r\n",
        "    return pattern\r\n",
        "  if len(pattern) == 1:\r\n",
        "    return ['A', 'T', 'C', 'G']\r\n",
        "  Neighborhood = []\r\n",
        "  SuffixNeighbors = neighbors(pattern[1:], d)\r\n",
        "  for text in SuffixNeighbors:\r\n",
        "    if hamdistance(text, pattern[1:]) < d:\r\n",
        "      for neuclotide in 'ACTG':\r\n",
        "        Neighborhood.append(neuclotide + text)\r\n",
        "    else:\r\n",
        "      Neighborhood.append(pattern[0] + text)\r\n",
        "  return Neighborhood\r\n",
        "\r\n",
        "arr = (neighbors(pattern, d))\r\n",
        "\r\n",
        "with open('answer.txt', 'w') as file:\r\n",
        "    strings  = '\\n'.join(arr)\r\n",
        "    file.write(str(strings))\r\n",
        "    file.close()\r\n"
      ],
      "execution_count": null,
      "outputs": [
        {
          "output_type": "stream",
          "text": [
            "/content/gdrive/MyDrive/Colab Notebooks/Finding Hidden Messages in DNA (Bioinformatics I)/Datasets\n"
          ],
          "name": "stdout"
        }
      ]
    },
    {
      "cell_type": "markdown",
      "metadata": {
        "id": "x12lxFdDHZhh"
      },
      "source": [
        "Week-2 - 1.4.9"
      ]
    },
    {
      "cell_type": "code",
      "metadata": {
        "colab": {
          "base_uri": "https://localhost:8080/"
        },
        "id": "XCbDgB7LHaCw",
        "outputId": "c494d903-b0a2-42ed-ea46-7304ee456a6b"
      },
      "source": [
        "\r\n",
        "def FrequentWordsWithMismatches(Text, k, d):\r\n",
        "  Patterns = []\r\n",
        "  freqMap = {}\r\n",
        "  n = len(Text)\r\n",
        "  max = 0\r\n",
        "  for i in range(n-k):\r\n",
        "    pattern = Text[i : i+k]\r\n",
        "    neighborhood = neighbors(pattern, d)\r\n",
        "    for neighbor in neighborhood:\r\n",
        "      if neighbor in freqMap.keys():\r\n",
        "        freqMap[neighbor] += 1\r\n",
        "        if freqMap[neighbor] > max:\r\n",
        "          max = freqMap[neighbor]\r\n",
        "      else:\r\n",
        "        freqMap[neighbor] = 1\r\n",
        "        if freqMap[neighbor] > max:\r\n",
        "          max = freqMap[neighbor]\r\n",
        "  \r\n",
        "  freqWords = [key for key in freqMap.keys() if freqMap[key] == max]\r\n",
        "\r\n",
        "  return freqWords\r\n",
        "\r\n",
        "%cd /content/gdrive/MyDrive/Colab Notebooks/Finding Hidden Messages in DNA (Bioinformatics I)/Datasets\r\n",
        "\r\n",
        "f = open('dataset_9_9.txt')\r\n",
        "\r\n",
        "Text = f.readline()\r\n",
        "Text = Text[ : len(Text)-1]\r\n",
        "rem = f.readline()\r\n",
        "k = int(rem[0])\r\n",
        "d = int(rem[2])\r\n",
        "FrequentWordsWithMismatches(Text, k, d)\r\n"
      ],
      "execution_count": null,
      "outputs": [
        {
          "output_type": "stream",
          "text": [
            "/content/gdrive/MyDrive/Colab Notebooks/Finding Hidden Messages in DNA (Bioinformatics I)/Datasets\n"
          ],
          "name": "stdout"
        },
        {
          "output_type": "execute_result",
          "data": {
            "text/plain": [
              "['CCCGGC']"
            ]
          },
          "metadata": {
            "tags": []
          },
          "execution_count": 42
        }
      ]
    },
    {
      "cell_type": "markdown",
      "metadata": {
        "id": "tPecmuJUObqS"
      },
      "source": [
        "Week-2 - 1.4.10"
      ]
    },
    {
      "cell_type": "code",
      "metadata": {
        "colab": {
          "base_uri": "https://localhost:8080/"
        },
        "id": "RgR4swptOdf_",
        "outputId": "93fef9c9-7549-49f6-a7d3-61aecf55d78e"
      },
      "source": [
        "def dnaCompliment(pattern):\r\n",
        "  compliment = str(\"\")\r\n",
        "  for base in pattern:\r\n",
        "      if base == 'A':\r\n",
        "          compliment += 'T'\r\n",
        "      elif base == 'G':\r\n",
        "          compliment += 'C'\r\n",
        "      elif base == 'C':\r\n",
        "          compliment += 'G'\r\n",
        "      elif base == 'T':\r\n",
        "          compliment += 'A'\r\n",
        "\r\n",
        "  return compliment[::-1]\r\n",
        "\r\n",
        "def FrequentWordsWithMismatchesAndReverseComplements(Text, k, d):\r\n",
        "  Patterns = []\r\n",
        "  freqMap = {}\r\n",
        "  n = len(Text)\r\n",
        "  max = 0\r\n",
        "  for i in range(n-k):\r\n",
        "    pattern = Text[i : i+k]\r\n",
        "    neighborhood = neighbors(pattern, d)\r\n",
        "    neighborhood += (neighbors(dnaCompliment(pattern), d))\r\n",
        "    for neighbor in neighborhood:\r\n",
        "      if neighbor in freqMap.keys():\r\n",
        "        freqMap[neighbor] += 1\r\n",
        "        if freqMap[neighbor] > max:\r\n",
        "          max = freqMap[neighbor]\r\n",
        "      else:\r\n",
        "        freqMap[neighbor] = 1\r\n",
        "        if freqMap[neighbor] > max:\r\n",
        "          max = freqMap[neighbor]\r\n",
        "  \r\n",
        "  freqWords = [key for key in freqMap.keys() if freqMap[key] == max]\r\n",
        "\r\n",
        "  return freqWords\r\n",
        "\r\n",
        "\r\n",
        "%cd /content/gdrive/MyDrive/Colab Notebooks/Finding Hidden Messages in DNA (Bioinformatics I)/Datasets\r\n",
        "\r\n",
        "f = open('dataset_9_10.txt')\r\n",
        "\r\n",
        "Text = f.readline()\r\n",
        "Text = Text[ : len(Text)-1]\r\n",
        "rem = f.readline()\r\n",
        "k = int(rem[0])\r\n",
        "d = int(rem[2])\r\n",
        "\r\n",
        "FrequentWordsWithMismatchesAndReverseComplements(Text, k, d)"
      ],
      "execution_count": null,
      "outputs": [
        {
          "output_type": "stream",
          "text": [
            "/content/gdrive/MyDrive/Colab Notebooks/Finding Hidden Messages in DNA (Bioinformatics I)/Datasets\n"
          ],
          "name": "stdout"
        },
        {
          "output_type": "execute_result",
          "data": {
            "text/plain": [
              "['ATATAT']"
            ]
          },
          "metadata": {
            "tags": []
          },
          "execution_count": 47
        }
      ]
    }
  ]
}